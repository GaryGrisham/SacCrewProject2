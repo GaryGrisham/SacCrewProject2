{
 "cells": [
  {
   "cell_type": "code",
   "execution_count": 1,
   "metadata": {},
   "outputs": [],
   "source": [
    "import pandas as pd\n",
    "import sqlalchemy\n",
    "from sqlalchemy import create_engine, func\n",
    "connection_string = \"admin22:12345@localhost:5432/saccrewproject2\"\n",
    "engine = create_engine(f'postgresql://{connection_string}')"
   ]
  },
  {
   "cell_type": "code",
   "execution_count": 2,
   "metadata": {},
   "outputs": [],
   "source": [
    "# Import Walmart 2019 Data\n",
    "Walmart2019_df = \"marketing_sample_for_walmart_com-ecommerce__20191201_20191231__30k_data.csv\"\n",
    "Walmart2019_df = pd.read_csv(Walmart2019_df)\n",
    "Walmart2019_df = Walmart2019_df.rename(columns = {'List Price':'List Price 2019','Sale Price':'Sale Price 2019'}) #rename columns\n"
   ]
  },
  {
   "cell_type": "code",
   "execution_count": 3,
   "metadata": {},
   "outputs": [],
   "source": [
    "#Create dataframe with only desired columns\n",
    "Walmart2019_clean_df = Walmart2019_df[[\"Item Number\",\"Product Name\",\"Product Url\",\"List Price 2019\",\"Sale Price 2019\",\"Brand\",\"Category\"]]\n"
   ]
  },
  {
   "cell_type": "code",
   "execution_count": 4,
   "metadata": {},
   "outputs": [
    {
     "data": {
      "text/plain": [
       "Item Number         True\n",
       "Product Name       False\n",
       "Product Url        False\n",
       "List Price 2019    False\n",
       "Sale Price 2019    False\n",
       "Brand               True\n",
       "Category            True\n",
       "dtype: bool"
      ]
     },
     "execution_count": 4,
     "metadata": {},
     "output_type": "execute_result"
    }
   ],
   "source": [
    "#Check if any columns have NaN values \n",
    "Walmart2019_clean_df.isna().any()"
   ]
  },
  {
   "cell_type": "code",
   "execution_count": 5,
   "metadata": {},
   "outputs": [],
   "source": [
    "#Drop the rows with NaN values\n",
    "Walmart2019_clean_df = Walmart2019_clean_df.dropna()"
   ]
  },
  {
   "cell_type": "code",
   "execution_count": 6,
   "metadata": {},
   "outputs": [],
   "source": [
    "# Import Walmart 2020 Data\n",
    "Walmart2020_df = \"marketing_sample_for_walmart_com-product_details__20200101_20200331__30k_data.csv\"\n",
    "Walmart2020_df = pd.read_csv(Walmart2020_df)\n",
    "Walmart2020_df = Walmart2020_df.rename(columns = {'List Price':'List Price 2020','Sale Price':'Sale Price 2020'}) #rename columns\n"
   ]
  },
  {
   "cell_type": "code",
   "execution_count": 7,
   "metadata": {},
   "outputs": [],
   "source": [
    "#Create dataframe with only desired columns\n",
    "Walmart2020_clean_df = Walmart2020_df[[\"List Price 2020\",\"Sale Price 2020\",\"Item Number\"]]\n"
   ]
  },
  {
   "cell_type": "code",
   "execution_count": 8,
   "metadata": {},
   "outputs": [
    {
     "data": {
      "text/plain": [
       "List Price 2020    False\n",
       "Sale Price 2020    False\n",
       "Item Number         True\n",
       "dtype: bool"
      ]
     },
     "execution_count": 8,
     "metadata": {},
     "output_type": "execute_result"
    }
   ],
   "source": [
    "#Check if any columns have NaN values \n",
    "Walmart2020_clean_df.isna().any()"
   ]
  },
  {
   "cell_type": "code",
   "execution_count": 9,
   "metadata": {},
   "outputs": [],
   "source": [
    "#Drop the rows with NaN values\n",
    "Walmart2020_clean_df = Walmart2020_clean_df.dropna()\n"
   ]
  },
  {
   "cell_type": "code",
   "execution_count": 10,
   "metadata": {},
   "outputs": [],
   "source": [
    "# Merge Item\n",
    "Walmart_merged_df = pd.merge(Walmart2019_clean_df, Walmart2020_clean_df, on=['Item Number'], how=\"inner\")\n"
   ]
  },
  {
   "cell_type": "code",
   "execution_count": 11,
   "metadata": {},
   "outputs": [],
   "source": [
    "Walmart_merged_df2 = pd.DataFrame(Walmart_merged_df.Category.str.split('|',1).tolist(), columns = ['category1','category2'])\n",
    "\n",
    "\n"
   ]
  },
  {
   "cell_type": "code",
   "execution_count": 12,
   "metadata": {},
   "outputs": [],
   "source": [
    "Walmart_merged_df = pd.merge(Walmart_merged_df,Walmart_merged_df2, left_index=True, right_index=True)\n"
   ]
  },
  {
   "cell_type": "code",
   "execution_count": 13,
   "metadata": {},
   "outputs": [],
   "source": [
    "Walmart_merged_clean_df = Walmart_merged_df[[\"Item Number\",\"Product Name\",\"Product Url\",\"List Price 2019\",\"List Price 2020\",\"Brand\",\"category1\"]]\n"
   ]
  },
  {
   "cell_type": "code",
   "execution_count": 14,
   "metadata": {},
   "outputs": [],
   "source": [
    "Walmart_merged_clean_df = Walmart_merged_clean_df.loc[((Walmart_merged_clean_df[\"List Price 2019\"]>0) & (Walmart_merged_clean_df[\"List Price 2020\"]>0))]"
   ]
  },
  {
   "cell_type": "code",
   "execution_count": 15,
   "metadata": {},
   "outputs": [],
   "source": [
    "Walmart_merged_clean_df = Walmart_merged_clean_df.rename(columns = {\n",
    "    'List Price 2019':'price_2019',\n",
    "    'List Price 2020':'price_2020',\n",
    "    'Item Number': 'item_number',\n",
    "    'Product Name': 'product_name',\n",
    "    'Product Url': 'product_url',\n",
    "    'Brand': 'brand',\n",
    "    'category1': 'category'\n",
    "})"
   ]
  },
  {
   "cell_type": "code",
   "execution_count": 16,
   "metadata": {},
   "outputs": [],
   "source": [
    "Walmart_merged_clean_df['price_difference']=(Walmart_merged_clean_df['price_2019']-Walmart_merged_clean_df['price_2020'])\n",
    "Walmart_merged_clean_df['price_percent_change']=(Walmart_merged_clean_df['price_difference']/Walmart_merged_clean_df['price_2019'])*100"
   ]
  },
  {
   "cell_type": "code",
   "execution_count": 17,
   "metadata": {},
   "outputs": [],
   "source": [
    "Walmart_merged_clean_df = Walmart_merged_clean_df.round(2)"
   ]
  },
  {
   "cell_type": "code",
   "execution_count": 18,
   "metadata": {},
   "outputs": [],
   "source": [
    "Walmart_merged_clean_df.to_sql(name = \"walmartdata\", con = engine, if_exists = \"append\", index = False)"
   ]
  },
  {
   "cell_type": "code",
   "execution_count": 19,
   "metadata": {},
   "outputs": [
    {
     "data": {
      "text/html": [
       "<div>\n",
       "<style scoped>\n",
       "    .dataframe tbody tr th:only-of-type {\n",
       "        vertical-align: middle;\n",
       "    }\n",
       "\n",
       "    .dataframe tbody tr th {\n",
       "        vertical-align: top;\n",
       "    }\n",
       "\n",
       "    .dataframe thead th {\n",
       "        text-align: right;\n",
       "    }\n",
       "</style>\n",
       "<table border=\"1\" class=\"dataframe\">\n",
       "  <thead>\n",
       "    <tr style=\"text-align: right;\">\n",
       "      <th></th>\n",
       "      <th>item_number</th>\n",
       "      <th>product_name</th>\n",
       "      <th>product_url</th>\n",
       "      <th>price_2019</th>\n",
       "      <th>price_2020</th>\n",
       "      <th>price_difference</th>\n",
       "      <th>price_percent_change</th>\n",
       "      <th>brand</th>\n",
       "      <th>category</th>\n",
       "    </tr>\n",
       "  </thead>\n",
       "  <tbody>\n",
       "    <tr>\n",
       "      <th>0</th>\n",
       "      <td>554298081.0</td>\n",
       "      <td>Realtree Ladies Softshell Jacket</td>\n",
       "      <td>https://www.walmart.com/ip/Realtree-Ladies-Sof...</td>\n",
       "      <td>75.22</td>\n",
       "      <td>91.94</td>\n",
       "      <td>-16.72</td>\n",
       "      <td>-22.23</td>\n",
       "      <td>Mossy Oak</td>\n",
       "      <td>Sports &amp; Outdoors</td>\n",
       "    </tr>\n",
       "    <tr>\n",
       "      <th>1</th>\n",
       "      <td>563412534.0</td>\n",
       "      <td>Sechlers Hungarian Sweet-Mild Pepper Relish, 1...</td>\n",
       "      <td>https://www.walmart.com/ip/Sechler-s-Hungarian...</td>\n",
       "      <td>30.11</td>\n",
       "      <td>29.92</td>\n",
       "      <td>0.19</td>\n",
       "      <td>0.63</td>\n",
       "      <td>Sechlers</td>\n",
       "      <td>Food</td>\n",
       "    </tr>\n",
       "    <tr>\n",
       "      <th>2</th>\n",
       "      <td>554946697.0</td>\n",
       "      <td>Stealth Cam STCG34 G Series Trail Camera 12 MP...</td>\n",
       "      <td>https://www.walmart.com/ip/Stealth-Cam-STCG34-...</td>\n",
       "      <td>101.59</td>\n",
       "      <td>106.42</td>\n",
       "      <td>-4.83</td>\n",
       "      <td>-4.75</td>\n",
       "      <td>Stealth Cam</td>\n",
       "      <td>Sports &amp; Outdoors</td>\n",
       "    </tr>\n",
       "    <tr>\n",
       "      <th>3</th>\n",
       "      <td>555023216.0</td>\n",
       "      <td>Odor Eaters Stink Stoppers for Kids and Teens,...</td>\n",
       "      <td>https://www.walmart.com/ip/Odor-Eaters-Stink-S...</td>\n",
       "      <td>4.23</td>\n",
       "      <td>4.23</td>\n",
       "      <td>0.00</td>\n",
       "      <td>0.00</td>\n",
       "      <td>Odor-Eaters</td>\n",
       "      <td>Pets</td>\n",
       "    </tr>\n",
       "    <tr>\n",
       "      <th>4</th>\n",
       "      <td>560814213.0</td>\n",
       "      <td>Head Jr Alum Tennis Rckt 21In</td>\n",
       "      <td>https://www.walmart.com/ip/Head-Jr-Alum-Tennis...</td>\n",
       "      <td>18.55</td>\n",
       "      <td>18.55</td>\n",
       "      <td>0.00</td>\n",
       "      <td>0.00</td>\n",
       "      <td>Generic</td>\n",
       "      <td>Sports &amp; Outdoors</td>\n",
       "    </tr>\n",
       "  </tbody>\n",
       "</table>\n",
       "</div>"
      ],
      "text/plain": [
       "   item_number                                       product_name  \\\n",
       "0  554298081.0                   Realtree Ladies Softshell Jacket   \n",
       "1  563412534.0  Sechlers Hungarian Sweet-Mild Pepper Relish, 1...   \n",
       "2  554946697.0  Stealth Cam STCG34 G Series Trail Camera 12 MP...   \n",
       "3  555023216.0  Odor Eaters Stink Stoppers for Kids and Teens,...   \n",
       "4  560814213.0                      Head Jr Alum Tennis Rckt 21In   \n",
       "\n",
       "                                         product_url  price_2019  price_2020  \\\n",
       "0  https://www.walmart.com/ip/Realtree-Ladies-Sof...       75.22       91.94   \n",
       "1  https://www.walmart.com/ip/Sechler-s-Hungarian...       30.11       29.92   \n",
       "2  https://www.walmart.com/ip/Stealth-Cam-STCG34-...      101.59      106.42   \n",
       "3  https://www.walmart.com/ip/Odor-Eaters-Stink-S...        4.23        4.23   \n",
       "4  https://www.walmart.com/ip/Head-Jr-Alum-Tennis...       18.55       18.55   \n",
       "\n",
       "   price_difference  price_percent_change        brand            category  \n",
       "0            -16.72                -22.23    Mossy Oak  Sports & Outdoors   \n",
       "1              0.19                  0.63     Sechlers               Food   \n",
       "2             -4.83                 -4.75  Stealth Cam  Sports & Outdoors   \n",
       "3              0.00                  0.00  Odor-Eaters               Pets   \n",
       "4              0.00                  0.00      Generic  Sports & Outdoors   "
      ]
     },
     "execution_count": 19,
     "metadata": {},
     "output_type": "execute_result"
    }
   ],
   "source": [
    "pd.read_sql_query(\"select * from walmartdata\", con = engine).head()"
   ]
  },
  {
   "cell_type": "code",
   "execution_count": null,
   "metadata": {},
   "outputs": [],
   "source": []
  }
 ],
 "metadata": {
  "kernelspec": {
   "display_name": "Python 3",
   "language": "python",
   "name": "python3"
  },
  "language_info": {
   "codemirror_mode": {
    "name": "ipython",
    "version": 3
   },
   "file_extension": ".py",
   "mimetype": "text/x-python",
   "name": "python",
   "nbconvert_exporter": "python",
   "pygments_lexer": "ipython3",
   "version": "3.7.6"
  }
 },
 "nbformat": 4,
 "nbformat_minor": 4
}
